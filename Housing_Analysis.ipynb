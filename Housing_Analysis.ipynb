{
 "cells": [
  {
   "cell_type": "markdown",
   "metadata": {},
   "source": [
    "## Business Understanding"
   ]
  },
  {
   "cell_type": "markdown",
   "metadata": {},
   "source": [
    "- I am a realestate agent at a realestate company that serves potential buyers and sellers in the King County Washington Area\n",
    "- A potential environmentally friendly buyer, with a family of 5, came asking specifically to buy a waterfront property, with a view and no more than 4.5 million dollars\n",
    "- As a realestate agent I am going to look into the buyers asks and try to get them the best possible house"
   ]
  },
  {
   "cell_type": "markdown",
   "metadata": {},
   "source": [
    "## Importing the Data"
   ]
  },
  {
   "cell_type": "code",
   "execution_count": 1,
   "metadata": {},
   "outputs": [],
   "source": [
    "import pandas as pd\n",
    "import seaborn as sns"
   ]
  },
  {
   "cell_type": "code",
   "execution_count": 2,
   "metadata": {},
   "outputs": [],
   "source": [
    "df = pd.read_csv('./data/kc_house_data.csv')"
   ]
  },
  {
   "cell_type": "markdown",
   "metadata": {},
   "source": [
    "## Data Understanding/Cleaning"
   ]
  },
  {
   "cell_type": "code",
   "execution_count": 3,
   "metadata": {},
   "outputs": [
    {
     "name": "stdout",
     "output_type": "stream",
     "text": [
      "<class 'pandas.core.frame.DataFrame'>\n",
      "RangeIndex: 30155 entries, 0 to 30154\n",
      "Data columns (total 25 columns):\n",
      " #   Column         Non-Null Count  Dtype  \n",
      "---  ------         --------------  -----  \n",
      " 0   id             30155 non-null  int64  \n",
      " 1   date           30155 non-null  object \n",
      " 2   price          30155 non-null  float64\n",
      " 3   bedrooms       30155 non-null  int64  \n",
      " 4   bathrooms      30155 non-null  float64\n",
      " 5   sqft_living    30155 non-null  int64  \n",
      " 6   sqft_lot       30155 non-null  int64  \n",
      " 7   floors         30155 non-null  float64\n",
      " 8   waterfront     30155 non-null  object \n",
      " 9   greenbelt      30155 non-null  object \n",
      " 10  nuisance       30155 non-null  object \n",
      " 11  view           30155 non-null  object \n",
      " 12  condition      30155 non-null  object \n",
      " 13  grade          30155 non-null  object \n",
      " 14  heat_source    30123 non-null  object \n",
      " 15  sewer_system   30141 non-null  object \n",
      " 16  sqft_above     30155 non-null  int64  \n",
      " 17  sqft_basement  30155 non-null  int64  \n",
      " 18  sqft_garage    30155 non-null  int64  \n",
      " 19  sqft_patio     30155 non-null  int64  \n",
      " 20  yr_built       30155 non-null  int64  \n",
      " 21  yr_renovated   30155 non-null  int64  \n",
      " 22  address        30155 non-null  object \n",
      " 23  lat            30155 non-null  float64\n",
      " 24  long           30155 non-null  float64\n",
      "dtypes: float64(5), int64(10), object(10)\n",
      "memory usage: 5.8+ MB\n"
     ]
    }
   ],
   "source": [
    "# taking a look at the columns, nulls and dtypes\n",
    "df.info()"
   ]
  },
  {
   "cell_type": "code",
   "execution_count": 4,
   "metadata": {},
   "outputs": [],
   "source": [
    "# dropping null values, dropping id column, dropping duplicates and resetting dataframe index\n",
    "df.dropna(inplace = True)\n",
    "df.drop(columns = 'id', inplace = True)\n",
    "df.drop_duplicates(inplace = True)\n",
    "df.reset_index(drop = True, inplace = True)"
   ]
  },
  {
   "cell_type": "markdown",
   "metadata": {},
   "source": [
    "Standardize all categorical columns to make sure that they are all lowercase and have no unnecessary spaces. I also need to change the date column from object to datetime."
   ]
  },
  {
   "cell_type": "code",
   "execution_count": 5,
   "metadata": {
    "scrolled": false
   },
   "outputs": [],
   "source": [
    "# standardizing categorical columns and changing date column to datetime\n",
    "cat_columns = ['waterfront', 'greenbelt', 'nuisance', 'view', 'condition', \n",
    "               'grade', 'heat_source', 'sewer_system', 'address']\n",
    "def standard(dataframe, column_to_clean):\n",
    "    cleaned_df = dataframe.copy()\n",
    "    \n",
    "    for column in column_to_clean:\n",
    "        if column in cleaned_df:\n",
    "            cleaned_df[column] = cleaned_df[column].str.lower().str.strip()\n",
    "    return cleaned_df\n",
    "\n",
    "df = standard(df, cat_columns)\n",
    "df['date'] = pd.to_datetime(df['date'])"
   ]
  },
  {
   "cell_type": "code",
   "execution_count": 6,
   "metadata": {},
   "outputs": [
    {
     "name": "stdout",
     "output_type": "stream",
     "text": [
      "VIEW column unique values and counts:\n",
      "none         26552\n",
      "average       1910\n",
      "good           877\n",
      "excellent      549\n",
      "fair           220\n",
      "Name: view, dtype: int64\n",
      "CONDITION column unique values and counts:\n",
      "average      18512\n",
      "good          8052\n",
      "very good     3258\n",
      "fair           225\n",
      "poor            61\n",
      "Name: condition, dtype: int64\n",
      "GRADE column unique values and counts:\n",
      "7 average        11693\n",
      "8 good            9398\n",
      "9 better          3803\n",
      "6 low average     2852\n",
      "10 very good      1369\n",
      "11 excellent       406\n",
      "5 fair             385\n",
      "12 luxury          122\n",
      "4 low               46\n",
      "13 mansion          24\n",
      "3 poor               9\n",
      "2 substandard        1\n",
      "Name: grade, dtype: int64\n",
      "HEAT_SOURCE column unique values and counts:\n",
      "gas                  20575\n",
      "electricity           6458\n",
      "oil                   2899\n",
      "gas/solar               93\n",
      "electricity/solar       59\n",
      "other                   20\n",
      "oil/solar                4\n",
      "Name: heat_source, dtype: int64\n",
      "SEWER_SYSTEM column unique values and counts:\n",
      "public                25764\n",
      "private                4336\n",
      "private restricted        5\n",
      "public restricted         3\n",
      "Name: sewer_system, dtype: int64\n"
     ]
    }
   ],
   "source": [
    "# viewing unique values in some of the categorical columns\n",
    "def unique_and_counts(dataframe, columns):\n",
    "    df = dataframe.copy()\n",
    "    \n",
    "    for column in columns:\n",
    "        if column in df:\n",
    "            print(column.upper(), 'column unique values and counts:')\n",
    "            print(df[column].value_counts())\n",
    "    return\n",
    "clmns_to_see = ['view', 'condition', 'grade', 'heat_source', 'sewer_system']\n",
    "unique_and_counts(df, clmns_to_see)"
   ]
  },
  {
   "cell_type": "code",
   "execution_count": 7,
   "metadata": {
    "scrolled": true
   },
   "outputs": [
    {
     "data": {
      "text/html": [
       "<div>\n",
       "<style scoped>\n",
       "    .dataframe tbody tr th:only-of-type {\n",
       "        vertical-align: middle;\n",
       "    }\n",
       "\n",
       "    .dataframe tbody tr th {\n",
       "        vertical-align: top;\n",
       "    }\n",
       "\n",
       "    .dataframe thead th {\n",
       "        text-align: right;\n",
       "    }\n",
       "</style>\n",
       "<table border=\"1\" class=\"dataframe\">\n",
       "  <thead>\n",
       "    <tr style=\"text-align: right;\">\n",
       "      <th></th>\n",
       "      <th>price</th>\n",
       "      <th>bedrooms</th>\n",
       "      <th>bathrooms</th>\n",
       "      <th>sqft_living</th>\n",
       "      <th>sqft_lot</th>\n",
       "      <th>floors</th>\n",
       "      <th>sqft_above</th>\n",
       "      <th>sqft_basement</th>\n",
       "      <th>sqft_garage</th>\n",
       "      <th>sqft_patio</th>\n",
       "      <th>yr_built</th>\n",
       "      <th>yr_renovated</th>\n",
       "      <th>lat</th>\n",
       "      <th>long</th>\n",
       "    </tr>\n",
       "  </thead>\n",
       "  <tbody>\n",
       "    <tr>\n",
       "      <th>count</th>\n",
       "      <td>3.010800e+04</td>\n",
       "      <td>30108.000000</td>\n",
       "      <td>30108.000000</td>\n",
       "      <td>30108.000000</td>\n",
       "      <td>3.010800e+04</td>\n",
       "      <td>30108.000000</td>\n",
       "      <td>30108.000000</td>\n",
       "      <td>30108.000000</td>\n",
       "      <td>30108.000000</td>\n",
       "      <td>30108.000000</td>\n",
       "      <td>30108.000000</td>\n",
       "      <td>30108.000000</td>\n",
       "      <td>30108.000000</td>\n",
       "      <td>30108.000000</td>\n",
       "    </tr>\n",
       "    <tr>\n",
       "      <th>mean</th>\n",
       "      <td>1.108463e+06</td>\n",
       "      <td>3.415238</td>\n",
       "      <td>2.335642</td>\n",
       "      <td>2113.326857</td>\n",
       "      <td>1.665012e+04</td>\n",
       "      <td>1.543394</td>\n",
       "      <td>1810.402983</td>\n",
       "      <td>476.588548</td>\n",
       "      <td>330.491630</td>\n",
       "      <td>217.436064</td>\n",
       "      <td>1975.157931</td>\n",
       "      <td>90.801813</td>\n",
       "      <td>47.328884</td>\n",
       "      <td>-121.320528</td>\n",
       "    </tr>\n",
       "    <tr>\n",
       "      <th>std</th>\n",
       "      <td>8.947558e+05</td>\n",
       "      <td>0.979795</td>\n",
       "      <td>0.888285</td>\n",
       "      <td>973.461912</td>\n",
       "      <td>5.993586e+04</td>\n",
       "      <td>0.567688</td>\n",
       "      <td>877.745363</td>\n",
       "      <td>579.809205</td>\n",
       "      <td>285.724889</td>\n",
       "      <td>245.308714</td>\n",
       "      <td>32.051539</td>\n",
       "      <td>416.217375</td>\n",
       "      <td>1.432483</td>\n",
       "      <td>5.720625</td>\n",
       "    </tr>\n",
       "    <tr>\n",
       "      <th>min</th>\n",
       "      <td>2.736000e+04</td>\n",
       "      <td>0.000000</td>\n",
       "      <td>0.000000</td>\n",
       "      <td>3.000000</td>\n",
       "      <td>4.020000e+02</td>\n",
       "      <td>1.000000</td>\n",
       "      <td>2.000000</td>\n",
       "      <td>0.000000</td>\n",
       "      <td>0.000000</td>\n",
       "      <td>0.000000</td>\n",
       "      <td>1900.000000</td>\n",
       "      <td>0.000000</td>\n",
       "      <td>21.274240</td>\n",
       "      <td>-157.791480</td>\n",
       "    </tr>\n",
       "    <tr>\n",
       "      <th>25%</th>\n",
       "      <td>6.490000e+05</td>\n",
       "      <td>3.000000</td>\n",
       "      <td>2.000000</td>\n",
       "      <td>1420.000000</td>\n",
       "      <td>4.850000e+03</td>\n",
       "      <td>1.000000</td>\n",
       "      <td>1180.000000</td>\n",
       "      <td>0.000000</td>\n",
       "      <td>0.000000</td>\n",
       "      <td>40.000000</td>\n",
       "      <td>1953.000000</td>\n",
       "      <td>0.000000</td>\n",
       "      <td>47.405383</td>\n",
       "      <td>-122.326083</td>\n",
       "    </tr>\n",
       "    <tr>\n",
       "      <th>50%</th>\n",
       "      <td>8.600000e+05</td>\n",
       "      <td>3.000000</td>\n",
       "      <td>2.500000</td>\n",
       "      <td>1920.000000</td>\n",
       "      <td>7.477000e+03</td>\n",
       "      <td>1.500000</td>\n",
       "      <td>1560.000000</td>\n",
       "      <td>0.000000</td>\n",
       "      <td>400.000000</td>\n",
       "      <td>150.000000</td>\n",
       "      <td>1977.000000</td>\n",
       "      <td>0.000000</td>\n",
       "      <td>47.551443</td>\n",
       "      <td>-122.225845</td>\n",
       "    </tr>\n",
       "    <tr>\n",
       "      <th>75%</th>\n",
       "      <td>1.300000e+06</td>\n",
       "      <td>4.000000</td>\n",
       "      <td>3.000000</td>\n",
       "      <td>2620.000000</td>\n",
       "      <td>1.056800e+04</td>\n",
       "      <td>2.000000</td>\n",
       "      <td>2270.000000</td>\n",
       "      <td>940.000000</td>\n",
       "      <td>510.000000</td>\n",
       "      <td>320.000000</td>\n",
       "      <td>2003.000000</td>\n",
       "      <td>0.000000</td>\n",
       "      <td>47.669916</td>\n",
       "      <td>-122.116399</td>\n",
       "    </tr>\n",
       "    <tr>\n",
       "      <th>max</th>\n",
       "      <td>3.075000e+07</td>\n",
       "      <td>13.000000</td>\n",
       "      <td>10.500000</td>\n",
       "      <td>15360.000000</td>\n",
       "      <td>3.253932e+06</td>\n",
       "      <td>4.000000</td>\n",
       "      <td>12660.000000</td>\n",
       "      <td>8020.000000</td>\n",
       "      <td>3580.000000</td>\n",
       "      <td>4370.000000</td>\n",
       "      <td>2022.000000</td>\n",
       "      <td>2022.000000</td>\n",
       "      <td>64.824070</td>\n",
       "      <td>-70.074340</td>\n",
       "    </tr>\n",
       "  </tbody>\n",
       "</table>\n",
       "</div>"
      ],
      "text/plain": [
       "              price      bedrooms     bathrooms   sqft_living      sqft_lot  \\\n",
       "count  3.010800e+04  30108.000000  30108.000000  30108.000000  3.010800e+04   \n",
       "mean   1.108463e+06      3.415238      2.335642   2113.326857  1.665012e+04   \n",
       "std    8.947558e+05      0.979795      0.888285    973.461912  5.993586e+04   \n",
       "min    2.736000e+04      0.000000      0.000000      3.000000  4.020000e+02   \n",
       "25%    6.490000e+05      3.000000      2.000000   1420.000000  4.850000e+03   \n",
       "50%    8.600000e+05      3.000000      2.500000   1920.000000  7.477000e+03   \n",
       "75%    1.300000e+06      4.000000      3.000000   2620.000000  1.056800e+04   \n",
       "max    3.075000e+07     13.000000     10.500000  15360.000000  3.253932e+06   \n",
       "\n",
       "             floors    sqft_above  sqft_basement   sqft_garage    sqft_patio  \\\n",
       "count  30108.000000  30108.000000   30108.000000  30108.000000  30108.000000   \n",
       "mean       1.543394   1810.402983     476.588548    330.491630    217.436064   \n",
       "std        0.567688    877.745363     579.809205    285.724889    245.308714   \n",
       "min        1.000000      2.000000       0.000000      0.000000      0.000000   \n",
       "25%        1.000000   1180.000000       0.000000      0.000000     40.000000   \n",
       "50%        1.500000   1560.000000       0.000000    400.000000    150.000000   \n",
       "75%        2.000000   2270.000000     940.000000    510.000000    320.000000   \n",
       "max        4.000000  12660.000000    8020.000000   3580.000000   4370.000000   \n",
       "\n",
       "           yr_built  yr_renovated           lat          long  \n",
       "count  30108.000000  30108.000000  30108.000000  30108.000000  \n",
       "mean    1975.157931     90.801813     47.328884   -121.320528  \n",
       "std       32.051539    416.217375      1.432483      5.720625  \n",
       "min     1900.000000      0.000000     21.274240   -157.791480  \n",
       "25%     1953.000000      0.000000     47.405383   -122.326083  \n",
       "50%     1977.000000      0.000000     47.551443   -122.225845  \n",
       "75%     2003.000000      0.000000     47.669916   -122.116399  \n",
       "max     2022.000000   2022.000000     64.824070    -70.074340  "
      ]
     },
     "execution_count": 7,
     "metadata": {},
     "output_type": "execute_result"
    }
   ],
   "source": [
    "# taking a look at the numerical columns\n",
    "df.describe()"
   ]
  },
  {
   "cell_type": "markdown",
   "metadata": {},
   "source": [
    "Want to extract zipcode from the address column."
   ]
  },
  {
   "cell_type": "code",
   "execution_count": 8,
   "metadata": {},
   "outputs": [],
   "source": [
    "# creating a function to get zip codes from addresses and creating the zip_code column\n",
    "def zip_code(address):\n",
    "    x = address.split(' ')[-3]\n",
    "    return x.split(',')[0]\n",
    "df['zip_code'] = df['address'].apply(lambda x: zip_code(x))\n",
    "df['zip_code'] = df['zip_code'].astype(int)"
   ]
  },
  {
   "cell_type": "code",
   "execution_count": 9,
   "metadata": {},
   "outputs": [
    {
     "data": {
      "text/plain": [
       "399"
      ]
     },
     "execution_count": 9,
     "metadata": {},
     "output_type": "execute_result"
    }
   ],
   "source": [
    "# looking at the number of unique zip codes\n",
    "df['zip_code'].nunique()"
   ]
  },
  {
   "cell_type": "markdown",
   "metadata": {},
   "source": [
    "Need to make sure that all the zip codes are in King County Washington. Went on to zillow and found all the appropriate zip codes."
   ]
  },
  {
   "cell_type": "code",
   "execution_count": 10,
   "metadata": {},
   "outputs": [
    {
     "data": {
      "text/plain": [
       "127"
      ]
     },
     "execution_count": 10,
     "metadata": {},
     "output_type": "execute_result"
    }
   ],
   "source": [
    "# real king county zip codes and number of different zip codes\n",
    "king_county_zips = [\n",
    "    98052, 98105, 98092, 98115, 98023, 98103, 98003, 98042, 98034, 98133, 98118, 98125, 98031, 98058, 98122,\n",
    "    98032, 98059, 98033, 98004, 98006, 98001, 98117, 98030, 98056, 98155, 98198, 98168, 98002, 98038, 98109, \n",
    "    98040, 98029, 98027, 98074, 98146, 98144, 98007, 98072, 98011, 98188, 98008, 98107, 98106, 98178, 98116,\n",
    "    98075, 98108, 98112, 98028, 98119, 98055, 98053, 98126, 98199, 98177, 98022, 98102, 98166, 98005, 98121,\n",
    "    98136, 98045, 98101, 98104, 98077, 98057, 98065, 98019, 98070, 98148, 98014, 98354, 98051, 98010, 98024,\n",
    "    98047, 98151, 98251, 98134, 98039, 98158, 98195, 98288, 98174, 98132, 98171, 98184, 98054, 98224, 98164,\n",
    "    98181, 98009, 98013, 98015, 98025, 98035, 98041, 98050, 98062, 98064, 98063, 98071, 98073, 98083, 98089,\n",
    "    98093, 98111, 98113, 98114, 98124, 98127, 98131, 98129, 98139, 98138, 98141, 98145, 98154, 98160, 98161,\n",
    "    98165, 98170, 98175, 98185, 98190, 98194, 98191\n",
    "]\n",
    "len(king_county_zips)"
   ]
  },
  {
   "cell_type": "markdown",
   "metadata": {},
   "source": [
    "Appears that many of the zip codes in the dataframe are not in King County Washington. Lets get rid of those."
   ]
  },
  {
   "cell_type": "code",
   "execution_count": 11,
   "metadata": {
    "scrolled": false
   },
   "outputs": [
    {
     "data": {
      "text/html": [
       "<div>\n",
       "<style scoped>\n",
       "    .dataframe tbody tr th:only-of-type {\n",
       "        vertical-align: middle;\n",
       "    }\n",
       "\n",
       "    .dataframe tbody tr th {\n",
       "        vertical-align: top;\n",
       "    }\n",
       "\n",
       "    .dataframe thead th {\n",
       "        text-align: right;\n",
       "    }\n",
       "</style>\n",
       "<table border=\"1\" class=\"dataframe\">\n",
       "  <thead>\n",
       "    <tr style=\"text-align: right;\">\n",
       "      <th></th>\n",
       "      <th>date</th>\n",
       "      <th>price</th>\n",
       "      <th>bedrooms</th>\n",
       "      <th>bathrooms</th>\n",
       "      <th>sqft_living</th>\n",
       "      <th>sqft_lot</th>\n",
       "      <th>floors</th>\n",
       "      <th>waterfront</th>\n",
       "      <th>greenbelt</th>\n",
       "      <th>nuisance</th>\n",
       "      <th>...</th>\n",
       "      <th>sqft_above</th>\n",
       "      <th>sqft_basement</th>\n",
       "      <th>sqft_garage</th>\n",
       "      <th>sqft_patio</th>\n",
       "      <th>yr_built</th>\n",
       "      <th>yr_renovated</th>\n",
       "      <th>address</th>\n",
       "      <th>lat</th>\n",
       "      <th>long</th>\n",
       "      <th>zip_code</th>\n",
       "    </tr>\n",
       "  </thead>\n",
       "  <tbody>\n",
       "    <tr>\n",
       "      <th>0</th>\n",
       "      <td>2022-05-24</td>\n",
       "      <td>675000.0</td>\n",
       "      <td>4</td>\n",
       "      <td>1.0</td>\n",
       "      <td>1180</td>\n",
       "      <td>7140</td>\n",
       "      <td>1.0</td>\n",
       "      <td>no</td>\n",
       "      <td>no</td>\n",
       "      <td>no</td>\n",
       "      <td>...</td>\n",
       "      <td>1180</td>\n",
       "      <td>0</td>\n",
       "      <td>0</td>\n",
       "      <td>40</td>\n",
       "      <td>1969</td>\n",
       "      <td>0</td>\n",
       "      <td>2102 southeast 21st court, renton, washington ...</td>\n",
       "      <td>47.461975</td>\n",
       "      <td>-122.19052</td>\n",
       "      <td>98055</td>\n",
       "    </tr>\n",
       "    <tr>\n",
       "      <th>1</th>\n",
       "      <td>2021-12-13</td>\n",
       "      <td>920000.0</td>\n",
       "      <td>5</td>\n",
       "      <td>2.5</td>\n",
       "      <td>2770</td>\n",
       "      <td>6703</td>\n",
       "      <td>1.0</td>\n",
       "      <td>no</td>\n",
       "      <td>no</td>\n",
       "      <td>yes</td>\n",
       "      <td>...</td>\n",
       "      <td>1570</td>\n",
       "      <td>1570</td>\n",
       "      <td>0</td>\n",
       "      <td>240</td>\n",
       "      <td>1950</td>\n",
       "      <td>0</td>\n",
       "      <td>11231 greenwood avenue north, seattle, washing...</td>\n",
       "      <td>47.711525</td>\n",
       "      <td>-122.35591</td>\n",
       "      <td>98133</td>\n",
       "    </tr>\n",
       "    <tr>\n",
       "      <th>2</th>\n",
       "      <td>2021-09-29</td>\n",
       "      <td>311000.0</td>\n",
       "      <td>6</td>\n",
       "      <td>2.0</td>\n",
       "      <td>2880</td>\n",
       "      <td>6156</td>\n",
       "      <td>1.0</td>\n",
       "      <td>no</td>\n",
       "      <td>no</td>\n",
       "      <td>no</td>\n",
       "      <td>...</td>\n",
       "      <td>1580</td>\n",
       "      <td>1580</td>\n",
       "      <td>0</td>\n",
       "      <td>0</td>\n",
       "      <td>1956</td>\n",
       "      <td>0</td>\n",
       "      <td>8504 south 113th street, seattle, washington 9...</td>\n",
       "      <td>47.502045</td>\n",
       "      <td>-122.22520</td>\n",
       "      <td>98178</td>\n",
       "    </tr>\n",
       "    <tr>\n",
       "      <th>3</th>\n",
       "      <td>2021-12-14</td>\n",
       "      <td>775000.0</td>\n",
       "      <td>3</td>\n",
       "      <td>3.0</td>\n",
       "      <td>2160</td>\n",
       "      <td>1400</td>\n",
       "      <td>2.0</td>\n",
       "      <td>no</td>\n",
       "      <td>no</td>\n",
       "      <td>no</td>\n",
       "      <td>...</td>\n",
       "      <td>1090</td>\n",
       "      <td>1070</td>\n",
       "      <td>200</td>\n",
       "      <td>270</td>\n",
       "      <td>2010</td>\n",
       "      <td>0</td>\n",
       "      <td>4079 letitia avenue south, seattle, washington...</td>\n",
       "      <td>47.566110</td>\n",
       "      <td>-122.29020</td>\n",
       "      <td>98118</td>\n",
       "    </tr>\n",
       "    <tr>\n",
       "      <th>4</th>\n",
       "      <td>2021-08-24</td>\n",
       "      <td>592500.0</td>\n",
       "      <td>2</td>\n",
       "      <td>2.0</td>\n",
       "      <td>1120</td>\n",
       "      <td>758</td>\n",
       "      <td>2.0</td>\n",
       "      <td>no</td>\n",
       "      <td>no</td>\n",
       "      <td>yes</td>\n",
       "      <td>...</td>\n",
       "      <td>1120</td>\n",
       "      <td>550</td>\n",
       "      <td>550</td>\n",
       "      <td>30</td>\n",
       "      <td>2012</td>\n",
       "      <td>0</td>\n",
       "      <td>2193 northwest talus drive, issaquah, washingt...</td>\n",
       "      <td>47.532470</td>\n",
       "      <td>-122.07188</td>\n",
       "      <td>98027</td>\n",
       "    </tr>\n",
       "  </tbody>\n",
       "</table>\n",
       "<p>5 rows × 25 columns</p>\n",
       "</div>"
      ],
      "text/plain": [
       "        date     price  bedrooms  bathrooms  sqft_living  sqft_lot  floors  \\\n",
       "0 2022-05-24  675000.0         4        1.0         1180      7140     1.0   \n",
       "1 2021-12-13  920000.0         5        2.5         2770      6703     1.0   \n",
       "2 2021-09-29  311000.0         6        2.0         2880      6156     1.0   \n",
       "3 2021-12-14  775000.0         3        3.0         2160      1400     2.0   \n",
       "4 2021-08-24  592500.0         2        2.0         1120       758     2.0   \n",
       "\n",
       "  waterfront greenbelt nuisance  ... sqft_above sqft_basement sqft_garage  \\\n",
       "0         no        no       no  ...       1180             0           0   \n",
       "1         no        no      yes  ...       1570          1570           0   \n",
       "2         no        no       no  ...       1580          1580           0   \n",
       "3         no        no       no  ...       1090          1070         200   \n",
       "4         no        no      yes  ...       1120           550         550   \n",
       "\n",
       "  sqft_patio yr_built  yr_renovated  \\\n",
       "0         40     1969             0   \n",
       "1        240     1950             0   \n",
       "2          0     1956             0   \n",
       "3        270     2010             0   \n",
       "4         30     2012             0   \n",
       "\n",
       "                                             address        lat       long  \\\n",
       "0  2102 southeast 21st court, renton, washington ...  47.461975 -122.19052   \n",
       "1  11231 greenwood avenue north, seattle, washing...  47.711525 -122.35591   \n",
       "2  8504 south 113th street, seattle, washington 9...  47.502045 -122.22520   \n",
       "3  4079 letitia avenue south, seattle, washington...  47.566110 -122.29020   \n",
       "4  2193 northwest talus drive, issaquah, washingt...  47.532470 -122.07188   \n",
       "\n",
       "   zip_code  \n",
       "0     98055  \n",
       "1     98133  \n",
       "2     98178  \n",
       "3     98118  \n",
       "4     98027  \n",
       "\n",
       "[5 rows x 25 columns]"
      ]
     },
     "execution_count": 11,
     "metadata": {},
     "output_type": "execute_result"
    }
   ],
   "source": [
    "real_df = df[df['zip_code'].isin(king_county_zips)]\n",
    "real_df.reset_index(drop = True, inplace = True)\n",
    "real_df.head()"
   ]
  },
  {
   "cell_type": "code",
   "execution_count": 12,
   "metadata": {
    "scrolled": false
   },
   "outputs": [
    {
     "data": {
      "text/plain": [
       "98042    992\n",
       "98038    857\n",
       "98103    761\n",
       "98115    760\n",
       "98117    748\n",
       "        ... \n",
       "98354     23\n",
       "98288     16\n",
       "98224      3\n",
       "98251      3\n",
       "98050      2\n",
       "Name: zip_code, Length: 78, dtype: int64"
      ]
     },
     "execution_count": 12,
     "metadata": {},
     "output_type": "execute_result"
    }
   ],
   "source": [
    "# how many \n",
    "real_df['zip_code'].value_counts()"
   ]
  },
  {
   "cell_type": "code",
   "execution_count": 17,
   "metadata": {},
   "outputs": [
    {
     "data": {
      "image/png": "[encoded data removed]",
      "text/plain": [
       "<Figure size 432x288 with 2 Axes>"
      ]
     },
     "metadata": {
      "needs_background": "light"
     },
     "output_type": "display_data"
    }
   ],
   "source": [
    "sns.heatmap(real_df.corr());"
   ]
  },
  {
   "cell_type": "markdown",
   "metadata": {},
   "source": [
    "Exporting to CSV to conduct visual analysis on Tableau"
   ]
  },
  {
   "cell_type": "code",
   "execution_count": 14,
   "metadata": {},
   "outputs": [],
   "source": [
    "real_df.to_csv('king_county_sales.csv')"
   ]
  }
 ],
 "metadata": {
  "kernelspec": {
   "display_name": "Python (learn-env)",
   "language": "python",
   "name": "learn-env"
  },
  "language_info": {
   "codemirror_mode": {
    "name": "ipython",
    "version": 3
   },
   "file_extension": ".py",
   "mimetype": "text/x-python",
   "name": "python",
   "nbconvert_exporter": "python",
   "pygments_lexer": "ipython3",
   "version": "3.8.5"
  }
 },
 "nbformat": 4,
 "nbformat_minor": 4
}
